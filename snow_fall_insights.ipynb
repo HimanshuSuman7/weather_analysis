{
 "cells": [
  {
   "cell_type": "markdown",
   "metadata": {},
   "source": [
    "## Analyze\n",
    "\n",
    "Aim to determine whether early or late snow changes more year to year or place to place"
   ]
  },
  {
   "cell_type": "code",
   "execution_count": 1,
   "metadata": {
    "ExecuteTime": {
     "end_time": "2020-03-25T14:08:05.007382Z",
     "start_time": "2020-03-25T14:08:04.488108Z"
    }
   },
   "outputs": [],
   "source": [
    "import pandas as pd\n",
    "import numpy as np\n",
    "import pickle\n",
    "import matplotlib.pyplot as plt"
   ]
  },
  {
   "cell_type": "code",
   "execution_count": 2,
   "metadata": {
    "ExecuteTime": {
     "end_time": "2020-03-25T14:08:14.922484Z",
     "start_time": "2020-03-25T14:08:05.007382Z"
    }
   },
   "outputs": [],
   "source": [
    "from pyspark import SparkContext\n",
    "sc = SparkContext(master=\"local[2]\")"
   ]
  },
  {
   "cell_type": "code",
   "execution_count": 3,
   "metadata": {
    "ExecuteTime": {
     "end_time": "2020-03-25T14:08:15.058302Z",
     "start_time": "2020-03-25T14:08:14.922484Z"
    }
   },
   "outputs": [],
   "source": [
    "from pyspark.sql import SQLContext\n",
    "from pyspark.sql import *\n",
    "\n",
    "sqlContext = SQLContext(sc)"
   ]
  },
  {
   "cell_type": "code",
   "execution_count": 4,
   "metadata": {
    "ExecuteTime": {
     "end_time": "2020-03-25T14:08:15.788748Z",
     "start_time": "2020-03-25T14:08:15.058302Z"
    }
   },
   "outputs": [
    {
     "data": {
      "text/plain": [
       "dict_keys(['SNOW_s20', 'TMIN_s20', 'TOBS', 'SNWD_s20', 'PRCP_s20', 'TOBS_s20', 'PRCP', 'TMAX', 'TMAX_s20', 'TMIN', 'SNOW', 'SNWD'])"
      ]
     },
     "execution_count": 4,
     "metadata": {},
     "output_type": "execute_result"
    }
   ],
   "source": [
    "STAT, STAT_descr = pickle.load(open(\"../Data/STAT_NY.pickle\", \"rb\"))\n",
    "STAT.keys()"
   ]
  },
  {
   "cell_type": "code",
   "execution_count": 5,
   "metadata": {
    "ExecuteTime": {
     "end_time": "2020-03-25T14:08:20.804111Z",
     "start_time": "2020-03-25T14:08:15.788748Z"
    }
   },
   "outputs": [
    {
     "name": "stdout",
     "output_type": "stream",
     "text": [
      "Total count :  8174\n",
      "+-----------+-----------+--------------------+----+------------------+------------------+-------------------+------------------+------------------+------------------+----------------+------------------+------------------+---------+------------------+------------------+------------------+------------------+-------------------+------------------+---------+-----+\n",
      "|    Station|Measurement|              Values|Year|           coeff_1|           coeff_2|            coeff_3|           coeff_4|           coeff_5|        dist_coast|       elevation|          latitude|         longitude|     name|             res_1|             res_2|             res_3|             res_4|              res_5|          res_mean|total_var|State|\n",
      "+-----------+-----------+--------------------+----+------------------+------------------+-------------------+------------------+------------------+------------------+----------------+------------------+------------------+---------+------------------+------------------+------------------+------------------+-------------------+------------------+---------+-----+\n",
      "|USW00014735|       SNWD|[C0 54 60 56 00 0...|1939|-659.3190458468584|-169.3223185674074| 114.03551919851718|457.63475616405776|418.85486776821057|175.44400024414062|95.0999984741211|42.743099212646484|-73.80919647216797|ALBANY AP|0.6936982956503619|0.6717348260864184| 0.663298809472818|0.5188018093532125|0.39955117079145136|0.9805876688449685|1466850.0|   NY|\n",
      "|USW00014735|       SNWD|[40 4E 40 4E 40 4...|1943|-636.3811845052854| 272.3540924503061|-209.93059130386774|277.24524994684697| 5.927093765926917|175.44400024414062|95.0999984741211|42.743099212646484|-73.80919647216797|ALBANY AP|0.6164763435258529|0.5478257025034862|0.5066355807977382|0.4339928689629195|0.43395199595466527|0.7359716199890467|1441498.0|   NY|\n",
      "|USW00014735|       SNWD|[00 00 00 00 00 0...|1945|-33.31222533832221| 790.5793887906391|  347.2104137516154| 379.6550684921963| 329.8271722153101|175.44400024414062|95.0999984741211|42.743099212646484|-73.80919647216797|ALBANY AP|0.9993030174452017| 0.606768192055135|0.5333738807913538|0.4449806880212799|0.37717054459006166| 0.408684109819488|4001471.0|   NY|\n",
      "+-----------+-----------+--------------------+----+------------------+------------------+-------------------+------------------+------------------+------------------+----------------+------------------+------------------+---------+------------------+------------------+------------------+------------------+-------------------+------------------+---------+-----+\n",
      "only showing top 3 rows\n",
      "\n"
     ]
    }
   ],
   "source": [
    "state, measure = \"NY\", \"SNWD\"\n",
    "\n",
    "df = sqlContext.read.parquet(\"../Data/decon_NY_SNWD.parquet/\")\n",
    "print(\"Total count : \", df.count())\n",
    "df.show(3)"
   ]
  },
  {
   "cell_type": "code",
   "execution_count": 6,
   "metadata": {
    "ExecuteTime": {
     "end_time": "2020-03-25T14:08:20.987831Z",
     "start_time": "2020-03-25T14:08:20.804111Z"
    }
   },
   "outputs": [],
   "source": [
    "feature = \"coeff_2\"\n",
    "sqlContext.registerDataFrameAsTable(df, \"weather\")"
   ]
  },
  {
   "cell_type": "code",
   "execution_count": 7,
   "metadata": {
    "ExecuteTime": {
     "end_time": "2020-03-25T14:08:21.331372Z",
     "start_time": "2020-03-25T14:08:20.987831Z"
    }
   },
   "outputs": [
    {
     "name": "stdout",
     "output_type": "stream",
     "text": [
      "+-----------+----+-------------------+\n",
      "|    station|year|            coeff_2|\n",
      "+-----------+----+-------------------+\n",
      "|USW00014735|1939| -169.3223185674074|\n",
      "|USW00014735|1943|  272.3540924503061|\n",
      "|USW00014735|1945|  790.5793887906391|\n",
      "|USW00014735|1947|-216.30283228614437|\n",
      "|USW00014735|1948|  1028.612178846539|\n",
      "+-----------+----+-------------------+\n",
      "only showing top 5 rows\n",
      "\n"
     ]
    }
   ],
   "source": [
    "query = \"\"\"\n",
    "SELECT station, year, coeff_2\n",
    "FROM weather\n",
    "\"\"\"\n",
    "\n",
    "df2 = sqlContext.sql(query)\n",
    "df2.show(5)"
   ]
  },
  {
   "cell_type": "code",
   "execution_count": 8,
   "metadata": {
    "ExecuteTime": {
     "end_time": "2020-03-25T14:08:21.666928Z",
     "start_time": "2020-03-25T14:08:21.335367Z"
    }
   },
   "outputs": [
    {
     "data": {
      "text/html": [
       "<div>\n",
       "<style scoped>\n",
       "    .dataframe tbody tr th:only-of-type {\n",
       "        vertical-align: middle;\n",
       "    }\n",
       "\n",
       "    .dataframe tbody tr th {\n",
       "        vertical-align: top;\n",
       "    }\n",
       "\n",
       "    .dataframe thead th {\n",
       "        text-align: right;\n",
       "    }\n",
       "</style>\n",
       "<table border=\"1\" class=\"dataframe\">\n",
       "  <thead>\n",
       "    <tr style=\"text-align: right;\">\n",
       "      <th></th>\n",
       "      <th>station</th>\n",
       "      <th>year</th>\n",
       "      <th>coeff_2</th>\n",
       "    </tr>\n",
       "  </thead>\n",
       "  <tbody>\n",
       "    <tr>\n",
       "      <th>0</th>\n",
       "      <td>USW00014735</td>\n",
       "      <td>1939</td>\n",
       "      <td>-169.322319</td>\n",
       "    </tr>\n",
       "    <tr>\n",
       "      <th>1</th>\n",
       "      <td>USW00014735</td>\n",
       "      <td>1943</td>\n",
       "      <td>272.354092</td>\n",
       "    </tr>\n",
       "    <tr>\n",
       "      <th>2</th>\n",
       "      <td>USW00014735</td>\n",
       "      <td>1945</td>\n",
       "      <td>790.579389</td>\n",
       "    </tr>\n",
       "    <tr>\n",
       "      <th>3</th>\n",
       "      <td>USW00014735</td>\n",
       "      <td>1947</td>\n",
       "      <td>-216.302832</td>\n",
       "    </tr>\n",
       "    <tr>\n",
       "      <th>4</th>\n",
       "      <td>USW00014735</td>\n",
       "      <td>1948</td>\n",
       "      <td>1028.612179</td>\n",
       "    </tr>\n",
       "  </tbody>\n",
       "</table>\n",
       "</div>"
      ],
      "text/plain": [
       "       station  year      coeff_2\n",
       "0  USW00014735  1939  -169.322319\n",
       "1  USW00014735  1943   272.354092\n",
       "2  USW00014735  1945   790.579389\n",
       "3  USW00014735  1947  -216.302832\n",
       "4  USW00014735  1948  1028.612179"
      ]
     },
     "execution_count": 8,
     "metadata": {},
     "output_type": "execute_result"
    }
   ],
   "source": [
    "pdf = df2.toPandas()\n",
    "pdf.head()"
   ]
  },
  {
   "cell_type": "code",
   "execution_count": 9,
   "metadata": {
    "ExecuteTime": {
     "end_time": "2020-03-25T14:08:21.714859Z",
     "start_time": "2020-03-25T14:08:21.666928Z"
    }
   },
   "outputs": [
    {
     "data": {
      "text/html": [
       "<div>\n",
       "<style scoped>\n",
       "    .dataframe tbody tr th:only-of-type {\n",
       "        vertical-align: middle;\n",
       "    }\n",
       "\n",
       "    .dataframe tbody tr th {\n",
       "        vertical-align: top;\n",
       "    }\n",
       "\n",
       "    .dataframe thead th {\n",
       "        text-align: right;\n",
       "    }\n",
       "</style>\n",
       "<table border=\"1\" class=\"dataframe\">\n",
       "  <thead>\n",
       "    <tr style=\"text-align: right;\">\n",
       "      <th>station</th>\n",
       "      <th>USC00300015</th>\n",
       "      <th>USC00300023</th>\n",
       "      <th>USC00300047</th>\n",
       "      <th>USC00300055</th>\n",
       "      <th>USC00300063</th>\n",
       "      <th>USC00300077</th>\n",
       "      <th>USC00300085</th>\n",
       "      <th>USC00300090</th>\n",
       "      <th>USC00300093</th>\n",
       "      <th>USC00300159</th>\n",
       "      <th>...</th>\n",
       "      <th>USW00014786</th>\n",
       "      <th>USW00014797</th>\n",
       "      <th>USW00014798</th>\n",
       "      <th>USW00094704</th>\n",
       "      <th>USW00094725</th>\n",
       "      <th>USW00094728</th>\n",
       "      <th>USW00094745</th>\n",
       "      <th>USW00094789</th>\n",
       "      <th>USW00094790</th>\n",
       "      <th>USW00094794</th>\n",
       "    </tr>\n",
       "    <tr>\n",
       "      <th>year</th>\n",
       "      <th></th>\n",
       "      <th></th>\n",
       "      <th></th>\n",
       "      <th></th>\n",
       "      <th></th>\n",
       "      <th></th>\n",
       "      <th></th>\n",
       "      <th></th>\n",
       "      <th></th>\n",
       "      <th></th>\n",
       "      <th></th>\n",
       "      <th></th>\n",
       "      <th></th>\n",
       "      <th></th>\n",
       "      <th></th>\n",
       "      <th></th>\n",
       "      <th></th>\n",
       "      <th></th>\n",
       "      <th></th>\n",
       "      <th></th>\n",
       "      <th></th>\n",
       "    </tr>\n",
       "  </thead>\n",
       "  <tbody>\n",
       "    <tr>\n",
       "      <th>2009</th>\n",
       "      <td>NaN</td>\n",
       "      <td>NaN</td>\n",
       "      <td>NaN</td>\n",
       "      <td>NaN</td>\n",
       "      <td>NaN</td>\n",
       "      <td>NaN</td>\n",
       "      <td>NaN</td>\n",
       "      <td>NaN</td>\n",
       "      <td>870.773867</td>\n",
       "      <td>NaN</td>\n",
       "      <td>...</td>\n",
       "      <td>NaN</td>\n",
       "      <td>NaN</td>\n",
       "      <td>NaN</td>\n",
       "      <td>NaN</td>\n",
       "      <td>NaN</td>\n",
       "      <td>NaN</td>\n",
       "      <td>NaN</td>\n",
       "      <td>NaN</td>\n",
       "      <td>NaN</td>\n",
       "      <td>NaN</td>\n",
       "    </tr>\n",
       "    <tr>\n",
       "      <th>2010</th>\n",
       "      <td>NaN</td>\n",
       "      <td>NaN</td>\n",
       "      <td>NaN</td>\n",
       "      <td>NaN</td>\n",
       "      <td>NaN</td>\n",
       "      <td>NaN</td>\n",
       "      <td>NaN</td>\n",
       "      <td>NaN</td>\n",
       "      <td>-31.805303</td>\n",
       "      <td>NaN</td>\n",
       "      <td>...</td>\n",
       "      <td>NaN</td>\n",
       "      <td>NaN</td>\n",
       "      <td>NaN</td>\n",
       "      <td>NaN</td>\n",
       "      <td>NaN</td>\n",
       "      <td>NaN</td>\n",
       "      <td>NaN</td>\n",
       "      <td>NaN</td>\n",
       "      <td>NaN</td>\n",
       "      <td>NaN</td>\n",
       "    </tr>\n",
       "    <tr>\n",
       "      <th>2011</th>\n",
       "      <td>NaN</td>\n",
       "      <td>NaN</td>\n",
       "      <td>NaN</td>\n",
       "      <td>-120.642691</td>\n",
       "      <td>472.534062</td>\n",
       "      <td>NaN</td>\n",
       "      <td>NaN</td>\n",
       "      <td>NaN</td>\n",
       "      <td>907.925667</td>\n",
       "      <td>NaN</td>\n",
       "      <td>...</td>\n",
       "      <td>NaN</td>\n",
       "      <td>NaN</td>\n",
       "      <td>NaN</td>\n",
       "      <td>NaN</td>\n",
       "      <td>NaN</td>\n",
       "      <td>806.258001</td>\n",
       "      <td>NaN</td>\n",
       "      <td>NaN</td>\n",
       "      <td>NaN</td>\n",
       "      <td>NaN</td>\n",
       "    </tr>\n",
       "    <tr>\n",
       "      <th>2012</th>\n",
       "      <td>NaN</td>\n",
       "      <td>NaN</td>\n",
       "      <td>NaN</td>\n",
       "      <td>NaN</td>\n",
       "      <td>NaN</td>\n",
       "      <td>NaN</td>\n",
       "      <td>NaN</td>\n",
       "      <td>NaN</td>\n",
       "      <td>NaN</td>\n",
       "      <td>NaN</td>\n",
       "      <td>...</td>\n",
       "      <td>NaN</td>\n",
       "      <td>NaN</td>\n",
       "      <td>NaN</td>\n",
       "      <td>NaN</td>\n",
       "      <td>NaN</td>\n",
       "      <td>NaN</td>\n",
       "      <td>NaN</td>\n",
       "      <td>NaN</td>\n",
       "      <td>NaN</td>\n",
       "      <td>NaN</td>\n",
       "    </tr>\n",
       "    <tr>\n",
       "      <th>2013</th>\n",
       "      <td>NaN</td>\n",
       "      <td>149.013363</td>\n",
       "      <td>NaN</td>\n",
       "      <td>NaN</td>\n",
       "      <td>0.977231</td>\n",
       "      <td>NaN</td>\n",
       "      <td>97.643753</td>\n",
       "      <td>NaN</td>\n",
       "      <td>NaN</td>\n",
       "      <td>NaN</td>\n",
       "      <td>...</td>\n",
       "      <td>NaN</td>\n",
       "      <td>NaN</td>\n",
       "      <td>NaN</td>\n",
       "      <td>NaN</td>\n",
       "      <td>NaN</td>\n",
       "      <td>NaN</td>\n",
       "      <td>NaN</td>\n",
       "      <td>NaN</td>\n",
       "      <td>NaN</td>\n",
       "      <td>NaN</td>\n",
       "    </tr>\n",
       "  </tbody>\n",
       "</table>\n",
       "<p>5 rows × 329 columns</p>\n",
       "</div>"
      ],
      "text/plain": [
       "station  USC00300015  USC00300023  USC00300047  USC00300055  USC00300063  \\\n",
       "year                                                                       \n",
       "2009             NaN          NaN          NaN          NaN          NaN   \n",
       "2010             NaN          NaN          NaN          NaN          NaN   \n",
       "2011             NaN          NaN          NaN  -120.642691   472.534062   \n",
       "2012             NaN          NaN          NaN          NaN          NaN   \n",
       "2013             NaN   149.013363          NaN          NaN     0.977231   \n",
       "\n",
       "station  USC00300077  USC00300085  USC00300090  USC00300093  USC00300159  ...  \\\n",
       "year                                                                      ...   \n",
       "2009             NaN          NaN          NaN   870.773867          NaN  ...   \n",
       "2010             NaN          NaN          NaN   -31.805303          NaN  ...   \n",
       "2011             NaN          NaN          NaN   907.925667          NaN  ...   \n",
       "2012             NaN          NaN          NaN          NaN          NaN  ...   \n",
       "2013             NaN    97.643753          NaN          NaN          NaN  ...   \n",
       "\n",
       "station  USW00014786  USW00014797  USW00014798  USW00094704  USW00094725  \\\n",
       "year                                                                       \n",
       "2009             NaN          NaN          NaN          NaN          NaN   \n",
       "2010             NaN          NaN          NaN          NaN          NaN   \n",
       "2011             NaN          NaN          NaN          NaN          NaN   \n",
       "2012             NaN          NaN          NaN          NaN          NaN   \n",
       "2013             NaN          NaN          NaN          NaN          NaN   \n",
       "\n",
       "station  USW00094728  USW00094745  USW00094789  USW00094790  USW00094794  \n",
       "year                                                                      \n",
       "2009             NaN          NaN          NaN          NaN          NaN  \n",
       "2010             NaN          NaN          NaN          NaN          NaN  \n",
       "2011      806.258001          NaN          NaN          NaN          NaN  \n",
       "2012             NaN          NaN          NaN          NaN          NaN  \n",
       "2013             NaN          NaN          NaN          NaN          NaN  \n",
       "\n",
       "[5 rows x 329 columns]"
      ]
     },
     "execution_count": 9,
     "metadata": {},
     "output_type": "execute_result"
    }
   ],
   "source": [
    "year_station_df = pdf.pivot(index=\"year\", columns=\"station\", values=\"coeff_2\")\n",
    "year_station_df.tail()"
   ]
  },
  {
   "cell_type": "code",
   "execution_count": 10,
   "metadata": {
    "ExecuteTime": {
     "end_time": "2020-03-25T14:08:22.042424Z",
     "start_time": "2020-03-25T14:08:21.718855Z"
    }
   },
   "outputs": [
    {
     "data": {
      "text/plain": [
       "Text(0, 0.5, 'number of stations')"
      ]
     },
     "execution_count": 10,
     "metadata": {},
     "output_type": "execute_result"
    },
    {
     "data": {
      "image/png": "[encoded data removed]",
      "text/plain": [
       "<Figure size 432x288 with 1 Axes>"
      ]
     },
     "metadata": {
      "needs_background": "light"
     },
     "output_type": "display_data"
    }
   ],
   "source": [
    "null_stations = pd.isnull(year_station_df).mean()\n",
    "null_stations.hist()\n",
    "plt.xlabel(\"fraction of years that are undefined\")\n",
    "plt.ylabel(\"number of stations\")"
   ]
  },
  {
   "cell_type": "code",
   "execution_count": 11,
   "metadata": {
    "ExecuteTime": {
     "end_time": "2020-03-25T14:08:22.186231Z",
     "start_time": "2020-03-25T14:08:22.042424Z"
    }
   },
   "outputs": [
    {
     "data": {
      "image/png": "[encoded data removed]",
      "text/plain": [
       "<Figure size 432x288 with 1 Axes>"
      ]
     },
     "metadata": {
      "needs_background": "light"
     },
     "output_type": "display_data"
    }
   ],
   "source": [
    "null_years = pd.isnull(year_station_df).mean(axis=1)\n",
    "null_years.plot()\n",
    "plt.xlabel(\"years\")\n",
    "plt.ylabel(\"fraction of stations that are undefined\")\n",
    "plt.grid()"
   ]
  },
  {
   "cell_type": "code",
   "execution_count": 12,
   "metadata": {
    "ExecuteTime": {
     "end_time": "2020-03-25T14:08:22.218225Z",
     "start_time": "2020-03-25T14:08:22.186231Z"
    }
   },
   "outputs": [
    {
     "data": {
      "text/html": [
       "<div>\n",
       "<style scoped>\n",
       "    .dataframe tbody tr th:only-of-type {\n",
       "        vertical-align: middle;\n",
       "    }\n",
       "\n",
       "    .dataframe tbody tr th {\n",
       "        vertical-align: top;\n",
       "    }\n",
       "\n",
       "    .dataframe thead th {\n",
       "        text-align: right;\n",
       "    }\n",
       "</style>\n",
       "<table border=\"1\" class=\"dataframe\">\n",
       "  <thead>\n",
       "    <tr style=\"text-align: right;\">\n",
       "      <th>station</th>\n",
       "      <th>USC00300023</th>\n",
       "      <th>USC00300055</th>\n",
       "      <th>USC00300063</th>\n",
       "      <th>USC00300077</th>\n",
       "      <th>USC00300085</th>\n",
       "      <th>USC00300093</th>\n",
       "      <th>USC00300183</th>\n",
       "      <th>USC00300220</th>\n",
       "      <th>USC00300321</th>\n",
       "      <th>USC00300331</th>\n",
       "      <th>...</th>\n",
       "      <th>USW00014768</th>\n",
       "      <th>USW00014771</th>\n",
       "      <th>USW00014786</th>\n",
       "      <th>USW00014798</th>\n",
       "      <th>USW00094725</th>\n",
       "      <th>USW00094728</th>\n",
       "      <th>USW00094745</th>\n",
       "      <th>USW00094789</th>\n",
       "      <th>USW00094790</th>\n",
       "      <th>USW00094794</th>\n",
       "    </tr>\n",
       "    <tr>\n",
       "      <th>year</th>\n",
       "      <th></th>\n",
       "      <th></th>\n",
       "      <th></th>\n",
       "      <th></th>\n",
       "      <th></th>\n",
       "      <th></th>\n",
       "      <th></th>\n",
       "      <th></th>\n",
       "      <th></th>\n",
       "      <th></th>\n",
       "      <th></th>\n",
       "      <th></th>\n",
       "      <th></th>\n",
       "      <th></th>\n",
       "      <th></th>\n",
       "      <th></th>\n",
       "      <th></th>\n",
       "      <th></th>\n",
       "      <th></th>\n",
       "      <th></th>\n",
       "      <th></th>\n",
       "    </tr>\n",
       "  </thead>\n",
       "  <tbody>\n",
       "    <tr>\n",
       "      <th>2009</th>\n",
       "      <td>NaN</td>\n",
       "      <td>NaN</td>\n",
       "      <td>NaN</td>\n",
       "      <td>NaN</td>\n",
       "      <td>NaN</td>\n",
       "      <td>870.773867</td>\n",
       "      <td>576.598705</td>\n",
       "      <td>NaN</td>\n",
       "      <td>580.459651</td>\n",
       "      <td>NaN</td>\n",
       "      <td>...</td>\n",
       "      <td>NaN</td>\n",
       "      <td>627.812099</td>\n",
       "      <td>NaN</td>\n",
       "      <td>NaN</td>\n",
       "      <td>NaN</td>\n",
       "      <td>NaN</td>\n",
       "      <td>NaN</td>\n",
       "      <td>NaN</td>\n",
       "      <td>NaN</td>\n",
       "      <td>NaN</td>\n",
       "    </tr>\n",
       "    <tr>\n",
       "      <th>2010</th>\n",
       "      <td>NaN</td>\n",
       "      <td>NaN</td>\n",
       "      <td>NaN</td>\n",
       "      <td>NaN</td>\n",
       "      <td>NaN</td>\n",
       "      <td>-31.805303</td>\n",
       "      <td>-25.393217</td>\n",
       "      <td>NaN</td>\n",
       "      <td>-188.964850</td>\n",
       "      <td>-531.836350</td>\n",
       "      <td>...</td>\n",
       "      <td>-177.099611</td>\n",
       "      <td>156.548016</td>\n",
       "      <td>NaN</td>\n",
       "      <td>NaN</td>\n",
       "      <td>NaN</td>\n",
       "      <td>NaN</td>\n",
       "      <td>NaN</td>\n",
       "      <td>NaN</td>\n",
       "      <td>NaN</td>\n",
       "      <td>NaN</td>\n",
       "    </tr>\n",
       "    <tr>\n",
       "      <th>2011</th>\n",
       "      <td>NaN</td>\n",
       "      <td>-120.642691</td>\n",
       "      <td>472.534062</td>\n",
       "      <td>NaN</td>\n",
       "      <td>NaN</td>\n",
       "      <td>907.925667</td>\n",
       "      <td>305.092413</td>\n",
       "      <td>NaN</td>\n",
       "      <td>561.781691</td>\n",
       "      <td>566.875416</td>\n",
       "      <td>...</td>\n",
       "      <td>283.597976</td>\n",
       "      <td>584.134272</td>\n",
       "      <td>NaN</td>\n",
       "      <td>NaN</td>\n",
       "      <td>NaN</td>\n",
       "      <td>806.258001</td>\n",
       "      <td>NaN</td>\n",
       "      <td>NaN</td>\n",
       "      <td>NaN</td>\n",
       "      <td>NaN</td>\n",
       "    </tr>\n",
       "    <tr>\n",
       "      <th>2012</th>\n",
       "      <td>NaN</td>\n",
       "      <td>NaN</td>\n",
       "      <td>NaN</td>\n",
       "      <td>NaN</td>\n",
       "      <td>NaN</td>\n",
       "      <td>NaN</td>\n",
       "      <td>NaN</td>\n",
       "      <td>NaN</td>\n",
       "      <td>NaN</td>\n",
       "      <td>NaN</td>\n",
       "      <td>...</td>\n",
       "      <td>NaN</td>\n",
       "      <td>NaN</td>\n",
       "      <td>NaN</td>\n",
       "      <td>NaN</td>\n",
       "      <td>NaN</td>\n",
       "      <td>NaN</td>\n",
       "      <td>NaN</td>\n",
       "      <td>NaN</td>\n",
       "      <td>NaN</td>\n",
       "      <td>NaN</td>\n",
       "    </tr>\n",
       "    <tr>\n",
       "      <th>2013</th>\n",
       "      <td>149.013363</td>\n",
       "      <td>NaN</td>\n",
       "      <td>0.977231</td>\n",
       "      <td>NaN</td>\n",
       "      <td>97.643753</td>\n",
       "      <td>NaN</td>\n",
       "      <td>NaN</td>\n",
       "      <td>NaN</td>\n",
       "      <td>170.083352</td>\n",
       "      <td>43.373130</td>\n",
       "      <td>...</td>\n",
       "      <td>15.194207</td>\n",
       "      <td>86.764841</td>\n",
       "      <td>NaN</td>\n",
       "      <td>NaN</td>\n",
       "      <td>NaN</td>\n",
       "      <td>NaN</td>\n",
       "      <td>NaN</td>\n",
       "      <td>NaN</td>\n",
       "      <td>NaN</td>\n",
       "      <td>NaN</td>\n",
       "    </tr>\n",
       "  </tbody>\n",
       "</table>\n",
       "<p>5 rows × 268 columns</p>\n",
       "</div>"
      ],
      "text/plain": [
       "station  USC00300023  USC00300055  USC00300063  USC00300077  USC00300085  \\\n",
       "year                                                                       \n",
       "2009             NaN          NaN          NaN          NaN          NaN   \n",
       "2010             NaN          NaN          NaN          NaN          NaN   \n",
       "2011             NaN  -120.642691   472.534062          NaN          NaN   \n",
       "2012             NaN          NaN          NaN          NaN          NaN   \n",
       "2013      149.013363          NaN     0.977231          NaN    97.643753   \n",
       "\n",
       "station  USC00300093  USC00300183  USC00300220  USC00300321  USC00300331  ...  \\\n",
       "year                                                                      ...   \n",
       "2009      870.773867   576.598705          NaN   580.459651          NaN  ...   \n",
       "2010      -31.805303   -25.393217          NaN  -188.964850  -531.836350  ...   \n",
       "2011      907.925667   305.092413          NaN   561.781691   566.875416  ...   \n",
       "2012             NaN          NaN          NaN          NaN          NaN  ...   \n",
       "2013             NaN          NaN          NaN   170.083352    43.373130  ...   \n",
       "\n",
       "station  USW00014768  USW00014771  USW00014786  USW00014798  USW00094725  \\\n",
       "year                                                                       \n",
       "2009             NaN   627.812099          NaN          NaN          NaN   \n",
       "2010     -177.099611   156.548016          NaN          NaN          NaN   \n",
       "2011      283.597976   584.134272          NaN          NaN          NaN   \n",
       "2012             NaN          NaN          NaN          NaN          NaN   \n",
       "2013       15.194207    86.764841          NaN          NaN          NaN   \n",
       "\n",
       "station  USW00094728  USW00094745  USW00094789  USW00094790  USW00094794  \n",
       "year                                                                      \n",
       "2009             NaN          NaN          NaN          NaN          NaN  \n",
       "2010             NaN          NaN          NaN          NaN          NaN  \n",
       "2011      806.258001          NaN          NaN          NaN          NaN  \n",
       "2012             NaN          NaN          NaN          NaN          NaN  \n",
       "2013             NaN          NaN          NaN          NaN          NaN  \n",
       "\n",
       "[5 rows x 268 columns]"
      ]
     },
     "execution_count": 12,
     "metadata": {},
     "output_type": "execute_result"
    }
   ],
   "source": [
    "# based on above observations, range of dataset > 1960\n",
    "\n",
    "pdf2 = pdf[pdf[\"year\"] > 1960]\n",
    "year_station_df = pdf2.pivot(index=\"year\", columns=\"station\", values=\"coeff_2\")\n",
    "year_station_df.tail()"
   ]
  },
  {
   "cell_type": "code",
   "execution_count": 13,
   "metadata": {
    "ExecuteTime": {
     "end_time": "2020-03-25T14:08:22.386101Z",
     "start_time": "2020-03-25T14:08:22.218225Z"
    }
   },
   "outputs": [
    {
     "data": {
      "text/plain": [
       "Text(0, 0.5, 'number of stations')"
      ]
     },
     "execution_count": 13,
     "metadata": {},
     "output_type": "execute_result"
    },
    {
     "data": {
      "image/png": "[encoded data removed]",
      "text/plain": [
       "<Figure size 432x288 with 1 Axes>"
      ]
     },
     "metadata": {
      "needs_background": "light"
     },
     "output_type": "display_data"
    }
   ],
   "source": [
    "null_stations = pd.isnull(year_station_df).mean()\n",
    "null_stations.hist()\n",
    "plt.xlabel(\"fraction of years that are undefined\")\n",
    "plt.ylabel(\"number of stations\")"
   ]
  },
  {
   "cell_type": "code",
   "execution_count": 14,
   "metadata": {
    "ExecuteTime": {
     "end_time": "2020-03-25T14:08:22.537762Z",
     "start_time": "2020-03-25T14:08:22.386101Z"
    }
   },
   "outputs": [
    {
     "data": {
      "image/png": "[encoded data removed]",
      "text/plain": [
       "<Figure size 432x288 with 1 Axes>"
      ]
     },
     "metadata": {
      "needs_background": "light"
     },
     "output_type": "display_data"
    }
   ],
   "source": [
    "null_years = pd.isnull(year_station_df).mean(axis=1)\n",
    "null_years.plot()\n",
    "plt.xlabel(\"years\")\n",
    "plt.ylabel(\"fraction of stations that are undefined\")\n",
    "plt.grid()"
   ]
  },
  {
   "cell_type": "markdown",
   "metadata": {},
   "source": [
    "## Estimate effect of year vs effect of location"
   ]
  },
  {
   "cell_type": "code",
   "execution_count": 15,
   "metadata": {
    "ExecuteTime": {
     "end_time": "2020-03-25T14:08:22.641659Z",
     "start_time": "2020-03-25T14:08:22.537762Z"
    }
   },
   "outputs": [
    {
     "name": "stdout",
     "output_type": "stream",
     "text": [
      "total RMS =  753.145449514645\n",
      "\n",
      "RMS removing mean-by-station =  701.5445524111517 \n",
      "\treduction =  51.60089710349325\n",
      "\n",
      "RMS removing mean-by-year =  531.4823870967629 \n",
      "\treduction= 221.6630624178821\n"
     ]
    }
   ],
   "source": [
    "def RMS(mat):\n",
    "    return np.sqrt(np.nanmean(mat ** 2))\n",
    "\n",
    "mean_by_year = np.nanmean(year_station_df, axis=1)\n",
    "mean_by_station = np.nanmean(year_station_df, axis=0)\n",
    "df_minus_year = (year_station_df.transpose() - mean_by_year).transpose()\n",
    "df_minus_station = year_station_df - mean_by_station\n",
    "\n",
    "print('total RMS = ', RMS(year_station_df))\n",
    "print('\\nRMS removing mean-by-station = ',RMS(df_minus_station),\n",
    "      '\\n\\treduction = ', RMS(year_station_df) - RMS(df_minus_station))\n",
    "print('\\nRMS removing mean-by-year = ', RMS(df_minus_year),\n",
    "      '\\n\\treduction=', RMS(year_station_df) - RMS(df_minus_year))"
   ]
  },
  {
   "cell_type": "markdown",
   "metadata": {},
   "source": [
    "## Conclusion\n",
    "\n",
    "The effect of time is about four times as large as the effect of the location."
   ]
  },
  {
   "cell_type": "markdown",
   "metadata": {},
   "source": [
    "## Iterative Reduction\n",
    "\n",
    "Using alternating minimization, to remove the combined effect of location and time."
   ]
  },
  {
   "cell_type": "code",
   "execution_count": 16,
   "metadata": {
    "ExecuteTime": {
     "end_time": "2020-03-25T14:08:23.029108Z",
     "start_time": "2020-03-25T14:08:22.641659Z"
    }
   },
   "outputs": [
    {
     "name": "stdout",
     "output_type": "stream",
     "text": [
      "Initial RMS :  753.145449514645\n",
      "0 : after removing mean_by_year = 531.4823870967629\n",
      "0 : after removing mean_by_stations  = 490.58111029852466\n",
      "1 : after removing mean_by_year = 490.11149394795615\n",
      "1 : after removing mean_by_stations  = 490.08333935027764\n",
      "2 : after removing mean_by_year = 490.08010695597295\n",
      "2 : after removing mean_by_stations  = 490.0794679008307\n",
      "3 : after removing mean_by_year = 490.0793022334803\n",
      "3 : after removing mean_by_stations  = 490.0792548676868\n",
      "4 : after removing mean_by_year = 490.0792408655066\n",
      "4 : after removing mean_by_stations  = 490.0792366758466\n"
     ]
    }
   ],
   "source": [
    "print(\"Initial RMS : \", RMS(year_station_df))\n",
    "\n",
    "for i in range(5):\n",
    "    mean_by_year = np.nanmean(year_station_df, axis=1)\n",
    "    year_station_df = (year_station_df.transpose() - mean_by_year).transpose()\n",
    "    print(\"{} : after removing mean_by_year = {}\".format(i, RMS(year_station_df)))\n",
    "    \n",
    "    mean_by_station = np.nanmean(year_station_df, axis=0)\n",
    "    year_station_df = year_station_df - mean_by_station\n",
    "    print(\"{} : after removing mean_by_stations  = {}\".format(i, RMS(year_station_df)))"
   ]
  },
  {
   "cell_type": "code",
   "execution_count": 17,
   "metadata": {
    "ExecuteTime": {
     "end_time": "2020-03-25T14:10:01.749351Z",
     "start_time": "2020-03-25T14:10:01.725390Z"
    }
   },
   "outputs": [
    {
     "data": {
      "text/html": [
       "<div>\n",
       "<style scoped>\n",
       "    .dataframe tbody tr th:only-of-type {\n",
       "        vertical-align: middle;\n",
       "    }\n",
       "\n",
       "    .dataframe tbody tr th {\n",
       "        vertical-align: top;\n",
       "    }\n",
       "\n",
       "    .dataframe thead th {\n",
       "        text-align: right;\n",
       "    }\n",
       "</style>\n",
       "<table border=\"1\" class=\"dataframe\">\n",
       "  <thead>\n",
       "    <tr style=\"text-align: right;\">\n",
       "      <th>station</th>\n",
       "      <th>USC00300023</th>\n",
       "      <th>USC00300055</th>\n",
       "      <th>USC00300063</th>\n",
       "      <th>USC00300077</th>\n",
       "      <th>USC00300085</th>\n",
       "      <th>USC00300093</th>\n",
       "      <th>USC00300183</th>\n",
       "      <th>USC00300220</th>\n",
       "      <th>USC00300321</th>\n",
       "      <th>USC00300331</th>\n",
       "      <th>...</th>\n",
       "      <th>USW00014771</th>\n",
       "      <th>USW00014786</th>\n",
       "      <th>USW00014798</th>\n",
       "      <th>USW00094725</th>\n",
       "      <th>USW00094728</th>\n",
       "      <th>USW00094745</th>\n",
       "      <th>USW00094789</th>\n",
       "      <th>USW00094790</th>\n",
       "      <th>USW00094794</th>\n",
       "      <th>mean_by_year</th>\n",
       "    </tr>\n",
       "    <tr>\n",
       "      <th>year</th>\n",
       "      <th></th>\n",
       "      <th></th>\n",
       "      <th></th>\n",
       "      <th></th>\n",
       "      <th></th>\n",
       "      <th></th>\n",
       "      <th></th>\n",
       "      <th></th>\n",
       "      <th></th>\n",
       "      <th></th>\n",
       "      <th></th>\n",
       "      <th></th>\n",
       "      <th></th>\n",
       "      <th></th>\n",
       "      <th></th>\n",
       "      <th></th>\n",
       "      <th></th>\n",
       "      <th></th>\n",
       "      <th></th>\n",
       "      <th></th>\n",
       "      <th></th>\n",
       "    </tr>\n",
       "  </thead>\n",
       "  <tbody>\n",
       "    <tr>\n",
       "      <th>1961</th>\n",
       "      <td>155.322668</td>\n",
       "      <td>NaN</td>\n",
       "      <td>NaN</td>\n",
       "      <td>-526.216490</td>\n",
       "      <td>810.626258</td>\n",
       "      <td>-279.421801</td>\n",
       "      <td>142.485364</td>\n",
       "      <td>-202.849172</td>\n",
       "      <td>125.324071</td>\n",
       "      <td>129.805635</td>\n",
       "      <td>...</td>\n",
       "      <td>173.516964</td>\n",
       "      <td>0.0</td>\n",
       "      <td>79.791976</td>\n",
       "      <td>-1149.083768</td>\n",
       "      <td>-59.314214</td>\n",
       "      <td>1018.590878</td>\n",
       "      <td>NaN</td>\n",
       "      <td>99.364223</td>\n",
       "      <td>84.199898</td>\n",
       "      <td>-0.115733</td>\n",
       "    </tr>\n",
       "    <tr>\n",
       "      <th>1962</th>\n",
       "      <td>NaN</td>\n",
       "      <td>NaN</td>\n",
       "      <td>NaN</td>\n",
       "      <td>194.606475</td>\n",
       "      <td>-162.816631</td>\n",
       "      <td>42.324686</td>\n",
       "      <td>274.137805</td>\n",
       "      <td>-166.422647</td>\n",
       "      <td>NaN</td>\n",
       "      <td>NaN</td>\n",
       "      <td>...</td>\n",
       "      <td>NaN</td>\n",
       "      <td>NaN</td>\n",
       "      <td>NaN</td>\n",
       "      <td>170.828388</td>\n",
       "      <td>NaN</td>\n",
       "      <td>NaN</td>\n",
       "      <td>NaN</td>\n",
       "      <td>958.883579</td>\n",
       "      <td>-127.318680</td>\n",
       "      <td>-0.142607</td>\n",
       "    </tr>\n",
       "    <tr>\n",
       "      <th>1963</th>\n",
       "      <td>132.330101</td>\n",
       "      <td>NaN</td>\n",
       "      <td>NaN</td>\n",
       "      <td>490.657507</td>\n",
       "      <td>542.845673</td>\n",
       "      <td>301.262188</td>\n",
       "      <td>188.568372</td>\n",
       "      <td>294.201819</td>\n",
       "      <td>197.149024</td>\n",
       "      <td>148.849368</td>\n",
       "      <td>...</td>\n",
       "      <td>230.112110</td>\n",
       "      <td>NaN</td>\n",
       "      <td>59.291399</td>\n",
       "      <td>-208.082968</td>\n",
       "      <td>NaN</td>\n",
       "      <td>NaN</td>\n",
       "      <td>NaN</td>\n",
       "      <td>624.245549</td>\n",
       "      <td>-5.480156</td>\n",
       "      <td>-0.143292</td>\n",
       "    </tr>\n",
       "    <tr>\n",
       "      <th>1964</th>\n",
       "      <td>NaN</td>\n",
       "      <td>NaN</td>\n",
       "      <td>NaN</td>\n",
       "      <td>NaN</td>\n",
       "      <td>243.330515</td>\n",
       "      <td>435.685952</td>\n",
       "      <td>NaN</td>\n",
       "      <td>-121.596578</td>\n",
       "      <td>NaN</td>\n",
       "      <td>NaN</td>\n",
       "      <td>...</td>\n",
       "      <td>-294.370434</td>\n",
       "      <td>NaN</td>\n",
       "      <td>-121.120404</td>\n",
       "      <td>-359.614187</td>\n",
       "      <td>NaN</td>\n",
       "      <td>NaN</td>\n",
       "      <td>NaN</td>\n",
       "      <td>NaN</td>\n",
       "      <td>-242.508398</td>\n",
       "      <td>-0.149812</td>\n",
       "    </tr>\n",
       "    <tr>\n",
       "      <th>1965</th>\n",
       "      <td>NaN</td>\n",
       "      <td>NaN</td>\n",
       "      <td>NaN</td>\n",
       "      <td>NaN</td>\n",
       "      <td>36.324879</td>\n",
       "      <td>NaN</td>\n",
       "      <td>NaN</td>\n",
       "      <td>-732.826859</td>\n",
       "      <td>NaN</td>\n",
       "      <td>NaN</td>\n",
       "      <td>...</td>\n",
       "      <td>-69.694317</td>\n",
       "      <td>NaN</td>\n",
       "      <td>NaN</td>\n",
       "      <td>135.953933</td>\n",
       "      <td>NaN</td>\n",
       "      <td>NaN</td>\n",
       "      <td>NaN</td>\n",
       "      <td>NaN</td>\n",
       "      <td>-128.899506</td>\n",
       "      <td>-0.130511</td>\n",
       "    </tr>\n",
       "  </tbody>\n",
       "</table>\n",
       "<p>5 rows × 269 columns</p>\n",
       "</div>"
      ],
      "text/plain": [
       "station  USC00300023  USC00300055  USC00300063  USC00300077  USC00300085  \\\n",
       "year                                                                       \n",
       "1961      155.322668          NaN          NaN  -526.216490   810.626258   \n",
       "1962             NaN          NaN          NaN   194.606475  -162.816631   \n",
       "1963      132.330101          NaN          NaN   490.657507   542.845673   \n",
       "1964             NaN          NaN          NaN          NaN   243.330515   \n",
       "1965             NaN          NaN          NaN          NaN    36.324879   \n",
       "\n",
       "station  USC00300093  USC00300183  USC00300220  USC00300321  USC00300331  ...  \\\n",
       "year                                                                      ...   \n",
       "1961     -279.421801   142.485364  -202.849172   125.324071   129.805635  ...   \n",
       "1962       42.324686   274.137805  -166.422647          NaN          NaN  ...   \n",
       "1963      301.262188   188.568372   294.201819   197.149024   148.849368  ...   \n",
       "1964      435.685952          NaN  -121.596578          NaN          NaN  ...   \n",
       "1965             NaN          NaN  -732.826859          NaN          NaN  ...   \n",
       "\n",
       "station  USW00014771  USW00014786  USW00014798  USW00094725  USW00094728  \\\n",
       "year                                                                       \n",
       "1961      173.516964          0.0    79.791976 -1149.083768   -59.314214   \n",
       "1962             NaN          NaN          NaN   170.828388          NaN   \n",
       "1963      230.112110          NaN    59.291399  -208.082968          NaN   \n",
       "1964     -294.370434          NaN  -121.120404  -359.614187          NaN   \n",
       "1965      -69.694317          NaN          NaN   135.953933          NaN   \n",
       "\n",
       "station  USW00094745  USW00094789  USW00094790  USW00094794  mean_by_year  \n",
       "year                                                                       \n",
       "1961     1018.590878          NaN    99.364223    84.199898     -0.115733  \n",
       "1962             NaN          NaN   958.883579  -127.318680     -0.142607  \n",
       "1963             NaN          NaN   624.245549    -5.480156     -0.143292  \n",
       "1964             NaN          NaN          NaN  -242.508398     -0.149812  \n",
       "1965             NaN          NaN          NaN  -128.899506     -0.130511  \n",
       "\n",
       "[5 rows x 269 columns]"
      ]
     },
     "execution_count": 17,
     "metadata": {},
     "output_type": "execute_result"
    }
   ],
   "source": [
    "year_station_df[\"mean_by_year\"] = mean_by_year\n",
    "year_station_df.head()"
   ]
  },
  {
   "cell_type": "code",
   "execution_count": 18,
   "metadata": {
    "ExecuteTime": {
     "end_time": "2020-03-25T14:11:34.520581Z",
     "start_time": "2020-03-25T14:11:34.328605Z"
    }
   },
   "outputs": [
    {
     "data": {
      "image/png": "[encoded data removed]",
      "text/plain": [
       "<Figure size 720x432 with 1 Axes>"
      ]
     },
     "metadata": {
      "needs_background": "light"
     },
     "output_type": "display_data"
    }
   ],
   "source": [
    "plt.figure(figsize=[10, 6])\n",
    "plt.plot(year_station_df[\"mean_by_year\"])\n",
    "plt.title(\"snow fall has been getting early\")\n",
    "plt.grid()"
   ]
  },
  {
   "cell_type": "code",
   "execution_count": null,
   "metadata": {},
   "outputs": [],
   "source": []
  }
 ],
 "metadata": {
  "kernelspec": {
   "display_name": "Python 3",
   "language": "python",
   "name": "python3"
  },
  "language_info": {
   "codemirror_mode": {
    "name": "ipython",
    "version": 3
   },
   "file_extension": ".py",
   "mimetype": "text/x-python",
   "name": "python",
   "nbconvert_exporter": "python",
   "pygments_lexer": "ipython3",
   "version": "3.7.6"
  },
  "toc": {
   "base_numbering": 1,
   "nav_menu": {},
   "number_sections": false,
   "sideBar": true,
   "skip_h1_title": false,
   "title_cell": "Table of Contents",
   "title_sidebar": "Contents",
   "toc_cell": false,
   "toc_position": {},
   "toc_section_display": true,
   "toc_window_display": false
  },
  "varInspector": {
   "cols": {
    "lenName": 16,
    "lenType": 16,
    "lenVar": 40
   },
   "kernels_config": {
    "python": {
     "delete_cmd_postfix": "",
     "delete_cmd_prefix": "del ",
     "library": "var_list.py",
     "varRefreshCmd": "print(var_dic_list())"
    },
    "r": {
     "delete_cmd_postfix": ") ",
     "delete_cmd_prefix": "rm(",
     "library": "var_list.r",
     "varRefreshCmd": "cat(var_dic_list()) "
    }
   },
   "types_to_exclude": [
    "module",
    "function",
    "builtin_function_or_method",
    "instance",
    "_Feature"
   ],
   "window_display": false
  }
 },
 "nbformat": 4,
 "nbformat_minor": 4
}
