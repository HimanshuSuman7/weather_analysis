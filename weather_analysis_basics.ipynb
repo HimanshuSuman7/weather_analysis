{
 "cells": [
  {
   "cell_type": "code",
   "execution_count": 1,
   "metadata": {
    "ExecuteTime": {
     "end_time": "2020-03-07T07:32:20.459980Z",
     "start_time": "2020-03-07T07:31:53.953755Z"
    }
   },
   "outputs": [],
   "source": [
    "from pyspark import SparkContext\n",
    "\n",
    "sc = SparkContext()"
   ]
  },
  {
   "cell_type": "code",
   "execution_count": 2,
   "metadata": {
    "ExecuteTime": {
     "end_time": "2020-03-07T07:32:51.586022Z",
     "start_time": "2020-03-07T07:32:20.464426Z"
    }
   },
   "outputs": [],
   "source": [
    "from pyspark.sql import SQLContext\n",
    "import pandas as pd"
   ]
  },
  {
   "cell_type": "code",
   "execution_count": 3,
   "metadata": {
    "ExecuteTime": {
     "end_time": "2020-03-07T07:32:52.239140Z",
     "start_time": "2020-03-07T07:32:51.590411Z"
    }
   },
   "outputs": [],
   "source": [
    "sqlContext = SQLContext(sc)"
   ]
  },
  {
   "cell_type": "code",
   "execution_count": 4,
   "metadata": {
    "ExecuteTime": {
     "end_time": "2020-03-07T07:33:10.524585Z",
     "start_time": "2020-03-07T07:32:52.243206Z"
    }
   },
   "outputs": [
    {
     "name": "stdout",
     "output_type": "stream",
     "text": [
      "Total data :  168398\n",
      "+-----------+-----------+----+--------------------+-----------------+--------------+------------------+-----------------+-----+-----------------+\n",
      "|    Station|Measurement|Year|              Values|       dist_coast|      latitude|         longitude|        elevation|state|             name|\n",
      "+-----------+-----------+----+--------------------+-----------------+--------------+------------------+-----------------+-----+-----------------+\n",
      "|USW00094704|   PRCP_s20|1945|[00 00 00 00 00 0...|361.8320007324219|42.57080078125|-77.71330261230469|208.8000030517578|   NY|DANSVILLE MUNI AP|\n",
      "|USW00094704|   PRCP_s20|1946|[99 46 52 46 0B 4...|361.8320007324219|42.57080078125|-77.71330261230469|208.8000030517578|   NY|DANSVILLE MUNI AP|\n",
      "|USW00094704|   PRCP_s20|1947|[79 4C 75 4C 8F 4...|361.8320007324219|42.57080078125|-77.71330261230469|208.8000030517578|   NY|DANSVILLE MUNI AP|\n",
      "|USW00094704|   PRCP_s20|1948|[72 48 7A 48 85 4...|361.8320007324219|42.57080078125|-77.71330261230469|208.8000030517578|   NY|DANSVILLE MUNI AP|\n",
      "|USW00094704|   PRCP_s20|1949|[BB 49 BC 49 BD 4...|361.8320007324219|42.57080078125|-77.71330261230469|208.8000030517578|   NY|DANSVILLE MUNI AP|\n",
      "+-----------+-----------+----+--------------------+-----------------+--------------+------------------+-----------------+-----+-----------------+\n",
      "only showing top 5 rows\n",
      "\n"
     ]
    }
   ],
   "source": [
    "ny_df = sqlContext.read.parquet(\"../Data/NY.parquet\")\n",
    "print(\"Total data : \", ny_df.count())\n",
    "ny_df.show(5)"
   ]
  },
  {
   "cell_type": "code",
   "execution_count": 5,
   "metadata": {
    "ExecuteTime": {
     "end_time": "2020-03-07T07:33:11.485815Z",
     "start_time": "2020-03-07T07:33:10.529001Z"
    }
   },
   "outputs": [
    {
     "name": "stdout",
     "output_type": "stream",
     "text": [
      "Total data :  12140\n",
      "+-----------+----------+--------+---------+---------+-----+----------------+\n",
      "|    Station|Dist_coast|Latitude|Longitude|Elevation|State|            Name|\n",
      "+-----------+----------+--------+---------+---------+-----+----------------+\n",
      "|USC00341900|   739.956|    36.3| -96.4667|    242.3|   OK|       CLEVELAND|\n",
      "|USC00428114|    908.22|    40.1|-111.6667|   1409.1|   UT|SPANISH FORK 1 S|\n",
      "|USC00165926|   23.8801| 29.7853| -90.1158|      0.9|   LA|   MARRERO 9 SSW|\n",
      "|USC00411974|   541.905| 31.5333|-101.2842|    755.9|   TX|        COPE RCH|\n",
      "|USC00318906|   310.311| 35.5231| -81.4439|    274.3|   NC|    VALE AG 2 SW|\n",
      "+-----------+----------+--------+---------+---------+-----+----------------+\n",
      "only showing top 5 rows\n",
      "\n"
     ]
    }
   ],
   "source": [
    "stations_df = sqlContext.read.parquet(\"../Data/stations.parquet\")\n",
    "print(\"Total data : \", stations_df.count())\n",
    "stations_df.show(5)"
   ]
  },
  {
   "cell_type": "code",
   "execution_count": 6,
   "metadata": {
    "ExecuteTime": {
     "end_time": "2020-03-07T07:33:12.144906Z",
     "start_time": "2020-03-07T07:33:11.486813Z"
    }
   },
   "outputs": [],
   "source": [
    "stats_content = pd.read_pickle(\"../Data/STAT_NY.pickle\")"
   ]
  },
  {
   "cell_type": "code",
   "execution_count": 7,
   "metadata": {
    "ExecuteTime": {
     "end_time": "2020-03-07T07:33:15.680294Z",
     "start_time": "2020-03-07T07:33:12.148290Z"
    }
   },
   "outputs": [
    {
     "data": {
      "text/html": [
       "<div>\n",
       "<style scoped>\n",
       "    .dataframe tbody tr th:only-of-type {\n",
       "        vertical-align: middle;\n",
       "    }\n",
       "\n",
       "    .dataframe tbody tr th {\n",
       "        vertical-align: top;\n",
       "    }\n",
       "\n",
       "    .dataframe thead th {\n",
       "        text-align: right;\n",
       "    }\n",
       "</style>\n",
       "<table border=\"1\" class=\"dataframe\">\n",
       "  <thead>\n",
       "    <tr style=\"text-align: right;\">\n",
       "      <th></th>\n",
       "      <th>SNOW_s20</th>\n",
       "      <th>TMIN_s20</th>\n",
       "      <th>TOBS</th>\n",
       "      <th>SNWD_s20</th>\n",
       "      <th>PRCP_s20</th>\n",
       "      <th>TOBS_s20</th>\n",
       "      <th>PRCP</th>\n",
       "      <th>TMAX</th>\n",
       "      <th>TMAX_s20</th>\n",
       "      <th>TMIN</th>\n",
       "      <th>SNOW</th>\n",
       "      <th>SNWD</th>\n",
       "    </tr>\n",
       "  </thead>\n",
       "  <tbody>\n",
       "    <tr>\n",
       "      <th>NE</th>\n",
       "      <td>[12038.0, 12039.0, 12039.0, 12039.0, 12039.0, ...</td>\n",
       "      <td>[12615.0, 12615.0, 12615.0, 12615.0, 12615.0, ...</td>\n",
       "      <td>[9036.0, 9113.0, 9164.0, 9166.0, 9157.0, 9167....</td>\n",
       "      <td>[10777.0, 10775.0, 10775.0, 10774.0, 10773.0, ...</td>\n",
       "      <td>[15236.0, 15235.0, 15236.0, 15236.0, 15235.0, ...</td>\n",
       "      <td>[10090.0, 10090.0, 10090.0, 10090.0, 10090.0, ...</td>\n",
       "      <td>[13606.0, 13634.0, 13656.0, 13698.0, 13699.0, ...</td>\n",
       "      <td>[11568.0, 11628.0, 11652.0, 11660.0, 11658.0, ...</td>\n",
       "      <td>[12607.0, 12607.0, 12607.0, 12607.0, 12607.0, ...</td>\n",
       "      <td>[11568.0, 11629.0, 11652.0, 11663.0, 11658.0, ...</td>\n",
       "      <td>[9436.0, 9469.0, 9470.0, 9506.0, 9527.0, 9528....</td>\n",
       "      <td>[8126.0, 8167.0, 8198.0, 8192.0, 8197.0, 8218....</td>\n",
       "    </tr>\n",
       "    <tr>\n",
       "      <th>NO</th>\n",
       "      <td>[[12038.0, 12038.0, 12038.0, 12038.0, 12038.0,...</td>\n",
       "      <td>[[12615.0, 12615.0, 12615.0, 12615.0, 12615.0,...</td>\n",
       "      <td>[[9036.0, 8985.0, 9005.0, 8993.0, 8985.0, 8995...</td>\n",
       "      <td>[[10777.0, 10775.0, 10775.0, 10774.0, 10773.0,...</td>\n",
       "      <td>[[15236.0, 15235.0, 15235.0, 15235.0, 15234.0,...</td>\n",
       "      <td>[[10090.0, 10090.0, 10090.0, 10090.0, 10090.0,...</td>\n",
       "      <td>[[13606.0, 13532.0, 13494.0, 13507.0, 13501.0,...</td>\n",
       "      <td>[[11568.0, 11537.0, 11537.0, 11531.0, 11527.0,...</td>\n",
       "      <td>[[12607.0, 12607.0, 12607.0, 12607.0, 12607.0,...</td>\n",
       "      <td>[[11568.0, 11532.0, 11532.0, 11526.0, 11517.0,...</td>\n",
       "      <td>[[9436.0, 9365.0, 9339.0, 9349.0, 9363.0, 9355...</td>\n",
       "      <td>[[8126.0, 8037.0, 8013.0, 7992.0, 7982.0, 7987...</td>\n",
       "    </tr>\n",
       "    <tr>\n",
       "      <th>eigval</th>\n",
       "      <td>[8324.794377056878, 1985.717379339039, 1459.39...</td>\n",
       "      <td>[218872.57345183493, 25994.720253136347, 18038...</td>\n",
       "      <td>[307132.9834366321, 51540.96903205656, 30953.8...</td>\n",
       "      <td>[2227058.8157613804, 197787.2011074706, 161022...</td>\n",
       "      <td>[25810.2333755658, 10741.654107663826, 9042.33...</td>\n",
       "      <td>[300587.0543253952, 42170.567245838254, 19641....</td>\n",
       "      <td>[44219.41624029552, 34684.20032388285, 33691.0...</td>\n",
       "      <td>[116933.37990898985, 31316.00302881224, 30203....</td>\n",
       "      <td>[114205.3536421519, 20020.029102201242, 19461....</td>\n",
       "      <td>[221211.00190627636, 37011.859481314255, 33690...</td>\n",
       "      <td>[11152.335082092897, 9326.174911103268, 6642.1...</td>\n",
       "      <td>[2583681.0990271224, 433374.30801668705, 23011...</td>\n",
       "    </tr>\n",
       "    <tr>\n",
       "      <th>Mean</th>\n",
       "      <td>[14.053578153205564, 14.127857955728558, 14.19...</td>\n",
       "      <td>[-82.40050022036039, -83.41065333090837, -84.3...</td>\n",
       "      <td>[-39.921757414785304, -40.79787117304949, -36....</td>\n",
       "      <td>[106.25125718149944, 108.38554202334234, 110.4...</td>\n",
       "      <td>[25.07096863193567, 24.986228377489642, 24.904...</td>\n",
       "      <td>[-39.049407880346415, -39.868047549585164, -40...</td>\n",
       "      <td>[26.772159341467, 25.372817955112218, 28.41520...</td>\n",
       "      <td>[9.642548409405256, 6.937134502923977, 5.73532...</td>\n",
       "      <td>[9.304295384478227, 8.568664227165899, 7.87724...</td>\n",
       "      <td>[-85.9311030428769, -86.90910654398486, -79.46...</td>\n",
       "      <td>[16.667867740568038, 15.617171823846235, 17.13...</td>\n",
       "      <td>[113.66810238739848, 117.88918819640014, 122.1...</td>\n",
       "    </tr>\n",
       "    <tr>\n",
       "      <th>mean</th>\n",
       "      <td>5.11045</td>\n",
       "      <td>28.3952</td>\n",
       "      <td>81.637</td>\n",
       "      <td>41.3979</td>\n",
       "      <td>28.7814</td>\n",
       "      <td>81.5189</td>\n",
       "      <td>28.297</td>\n",
       "      <td>139.453</td>\n",
       "      <td>139.604</td>\n",
       "      <td>28.4151</td>\n",
       "      <td>5.09835</td>\n",
       "      <td>43.5168</td>\n",
       "    </tr>\n",
       "  </tbody>\n",
       "</table>\n",
       "</div>"
      ],
      "text/plain": [
       "                                                 SNOW_s20  \\\n",
       "NE      [12038.0, 12039.0, 12039.0, 12039.0, 12039.0, ...   \n",
       "NO      [[12038.0, 12038.0, 12038.0, 12038.0, 12038.0,...   \n",
       "eigval  [8324.794377056878, 1985.717379339039, 1459.39...   \n",
       "Mean    [14.053578153205564, 14.127857955728558, 14.19...   \n",
       "mean                                              5.11045   \n",
       "\n",
       "                                                 TMIN_s20  \\\n",
       "NE      [12615.0, 12615.0, 12615.0, 12615.0, 12615.0, ...   \n",
       "NO      [[12615.0, 12615.0, 12615.0, 12615.0, 12615.0,...   \n",
       "eigval  [218872.57345183493, 25994.720253136347, 18038...   \n",
       "Mean    [-82.40050022036039, -83.41065333090837, -84.3...   \n",
       "mean                                              28.3952   \n",
       "\n",
       "                                                     TOBS  \\\n",
       "NE      [9036.0, 9113.0, 9164.0, 9166.0, 9157.0, 9167....   \n",
       "NO      [[9036.0, 8985.0, 9005.0, 8993.0, 8985.0, 8995...   \n",
       "eigval  [307132.9834366321, 51540.96903205656, 30953.8...   \n",
       "Mean    [-39.921757414785304, -40.79787117304949, -36....   \n",
       "mean                                               81.637   \n",
       "\n",
       "                                                 SNWD_s20  \\\n",
       "NE      [10777.0, 10775.0, 10775.0, 10774.0, 10773.0, ...   \n",
       "NO      [[10777.0, 10775.0, 10775.0, 10774.0, 10773.0,...   \n",
       "eigval  [2227058.8157613804, 197787.2011074706, 161022...   \n",
       "Mean    [106.25125718149944, 108.38554202334234, 110.4...   \n",
       "mean                                              41.3979   \n",
       "\n",
       "                                                 PRCP_s20  \\\n",
       "NE      [15236.0, 15235.0, 15236.0, 15236.0, 15235.0, ...   \n",
       "NO      [[15236.0, 15235.0, 15235.0, 15235.0, 15234.0,...   \n",
       "eigval  [25810.2333755658, 10741.654107663826, 9042.33...   \n",
       "Mean    [25.07096863193567, 24.986228377489642, 24.904...   \n",
       "mean                                              28.7814   \n",
       "\n",
       "                                                 TOBS_s20  \\\n",
       "NE      [10090.0, 10090.0, 10090.0, 10090.0, 10090.0, ...   \n",
       "NO      [[10090.0, 10090.0, 10090.0, 10090.0, 10090.0,...   \n",
       "eigval  [300587.0543253952, 42170.567245838254, 19641....   \n",
       "Mean    [-39.049407880346415, -39.868047549585164, -40...   \n",
       "mean                                              81.5189   \n",
       "\n",
       "                                                     PRCP  \\\n",
       "NE      [13606.0, 13634.0, 13656.0, 13698.0, 13699.0, ...   \n",
       "NO      [[13606.0, 13532.0, 13494.0, 13507.0, 13501.0,...   \n",
       "eigval  [44219.41624029552, 34684.20032388285, 33691.0...   \n",
       "Mean    [26.772159341467, 25.372817955112218, 28.41520...   \n",
       "mean                                               28.297   \n",
       "\n",
       "                                                     TMAX  \\\n",
       "NE      [11568.0, 11628.0, 11652.0, 11660.0, 11658.0, ...   \n",
       "NO      [[11568.0, 11537.0, 11537.0, 11531.0, 11527.0,...   \n",
       "eigval  [116933.37990898985, 31316.00302881224, 30203....   \n",
       "Mean    [9.642548409405256, 6.937134502923977, 5.73532...   \n",
       "mean                                              139.453   \n",
       "\n",
       "                                                 TMAX_s20  \\\n",
       "NE      [12607.0, 12607.0, 12607.0, 12607.0, 12607.0, ...   \n",
       "NO      [[12607.0, 12607.0, 12607.0, 12607.0, 12607.0,...   \n",
       "eigval  [114205.3536421519, 20020.029102201242, 19461....   \n",
       "Mean    [9.304295384478227, 8.568664227165899, 7.87724...   \n",
       "mean                                              139.604   \n",
       "\n",
       "                                                     TMIN  \\\n",
       "NE      [11568.0, 11629.0, 11652.0, 11663.0, 11658.0, ...   \n",
       "NO      [[11568.0, 11532.0, 11532.0, 11526.0, 11517.0,...   \n",
       "eigval  [221211.00190627636, 37011.859481314255, 33690...   \n",
       "Mean    [-85.9311030428769, -86.90910654398486, -79.46...   \n",
       "mean                                              28.4151   \n",
       "\n",
       "                                                     SNOW  \\\n",
       "NE      [9436.0, 9469.0, 9470.0, 9506.0, 9527.0, 9528....   \n",
       "NO      [[9436.0, 9365.0, 9339.0, 9349.0, 9363.0, 9355...   \n",
       "eigval  [11152.335082092897, 9326.174911103268, 6642.1...   \n",
       "Mean    [16.667867740568038, 15.617171823846235, 17.13...   \n",
       "mean                                              5.09835   \n",
       "\n",
       "                                                     SNWD  \n",
       "NE      [8126.0, 8167.0, 8198.0, 8192.0, 8197.0, 8218....  \n",
       "NO      [[8126.0, 8037.0, 8013.0, 7992.0, 7982.0, 7987...  \n",
       "eigval  [2583681.0990271224, 433374.30801668705, 23011...  \n",
       "Mean    [113.66810238739848, 117.88918819640014, 122.1...  \n",
       "mean                                              43.5168  "
      ]
     },
     "execution_count": 7,
     "metadata": {},
     "output_type": "execute_result"
    }
   ],
   "source": [
    "stats_descr = pd.DataFrame(stats_content[0])\n",
    "stats_descr.head()"
   ]
  },
  {
   "cell_type": "code",
   "execution_count": 8,
   "metadata": {
    "ExecuteTime": {
     "end_time": "2020-03-07T07:33:15.701488Z",
     "start_time": "2020-03-07T07:33:15.685337Z"
    }
   },
   "outputs": [
    {
     "data": {
      "text/html": [
       "<div>\n",
       "<style scoped>\n",
       "    .dataframe tbody tr th:only-of-type {\n",
       "        vertical-align: middle;\n",
       "    }\n",
       "\n",
       "    .dataframe tbody tr th {\n",
       "        vertical-align: top;\n",
       "    }\n",
       "\n",
       "    .dataframe thead th {\n",
       "        text-align: right;\n",
       "    }\n",
       "</style>\n",
       "<table border=\"1\" class=\"dataframe\">\n",
       "  <thead>\n",
       "    <tr style=\"text-align: right;\">\n",
       "      <th></th>\n",
       "      <th>0</th>\n",
       "      <th>1</th>\n",
       "      <th>2</th>\n",
       "    </tr>\n",
       "  </thead>\n",
       "  <tbody>\n",
       "    <tr>\n",
       "      <th>0</th>\n",
       "      <td>SortedVals</td>\n",
       "      <td>Sample of values</td>\n",
       "      <td>vector whose length varies between measurements</td>\n",
       "    </tr>\n",
       "    <tr>\n",
       "      <th>1</th>\n",
       "      <td>UnDef</td>\n",
       "      <td>sample of number of undefs per row</td>\n",
       "      <td>vector whose length varies between measurements</td>\n",
       "    </tr>\n",
       "    <tr>\n",
       "      <th>2</th>\n",
       "      <td>mean</td>\n",
       "      <td>mean value</td>\n",
       "      <td>()</td>\n",
       "    </tr>\n",
       "    <tr>\n",
       "      <th>3</th>\n",
       "      <td>std</td>\n",
       "      <td>std</td>\n",
       "      <td>()</td>\n",
       "    </tr>\n",
       "    <tr>\n",
       "      <th>4</th>\n",
       "      <td>low100</td>\n",
       "      <td>bottom 1%</td>\n",
       "      <td>()</td>\n",
       "    </tr>\n",
       "  </tbody>\n",
       "</table>\n",
       "</div>"
      ],
      "text/plain": [
       "            0                                   1  \\\n",
       "0  SortedVals                    Sample of values   \n",
       "1       UnDef  sample of number of undefs per row   \n",
       "2        mean                          mean value   \n",
       "3         std                                 std   \n",
       "4      low100                           bottom 1%   \n",
       "\n",
       "                                                 2  \n",
       "0  vector whose length varies between measurements  \n",
       "1  vector whose length varies between measurements  \n",
       "2                                               ()  \n",
       "3                                               ()  \n",
       "4                                               ()  "
      ]
     },
     "execution_count": 8,
     "metadata": {},
     "output_type": "execute_result"
    }
   ],
   "source": [
    "stats_details = pd.DataFrame(stats_content[1])\n",
    "stats_details.head()"
   ]
  },
  {
   "cell_type": "code",
   "execution_count": null,
   "metadata": {},
   "outputs": [],
   "source": []
  }
 ],
 "metadata": {
  "kernelspec": {
   "display_name": "Python 3",
   "language": "python",
   "name": "python3"
  },
  "language_info": {
   "codemirror_mode": {
    "name": "ipython",
    "version": 3
   },
   "file_extension": ".py",
   "mimetype": "text/x-python",
   "name": "python",
   "nbconvert_exporter": "python",
   "pygments_lexer": "ipython3",
   "version": "3.7.6"
  },
  "toc": {
   "base_numbering": 1,
   "nav_menu": {},
   "number_sections": true,
   "sideBar": true,
   "skip_h1_title": false,
   "title_cell": "Table of Contents",
   "title_sidebar": "Contents",
   "toc_cell": false,
   "toc_position": {},
   "toc_section_display": true,
   "toc_window_display": false
  },
  "varInspector": {
   "cols": {
    "lenName": 16,
    "lenType": 16,
    "lenVar": 40
   },
   "kernels_config": {
    "python": {
     "delete_cmd_postfix": "",
     "delete_cmd_prefix": "del ",
     "library": "var_list.py",
     "varRefreshCmd": "print(var_dic_list())"
    },
    "r": {
     "delete_cmd_postfix": ") ",
     "delete_cmd_prefix": "rm(",
     "library": "var_list.r",
     "varRefreshCmd": "cat(var_dic_list()) "
    }
   },
   "types_to_exclude": [
    "module",
    "function",
    "builtin_function_or_method",
    "instance",
    "_Feature"
   ],
   "window_display": false
  }
 },
 "nbformat": 4,
 "nbformat_minor": 4
}
