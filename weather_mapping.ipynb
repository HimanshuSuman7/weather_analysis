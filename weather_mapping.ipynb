{
 "cells": [
  {
   "cell_type": "code",
   "execution_count": 28,
   "metadata": {
    "ExecuteTime": {
     "end_time": "2020-03-25T12:41:22.373544Z",
     "start_time": "2020-03-25T12:41:22.369558Z"
    }
   },
   "outputs": [],
   "source": [
    "import ipyleaflet as leaf\n",
    "import pandas as pd\n",
    "import numpy as np\n",
    "import sklearn as sk\n",
    "import math"
   ]
  },
  {
   "cell_type": "code",
   "execution_count": 29,
   "metadata": {
    "ExecuteTime": {
     "end_time": "2020-03-25T12:42:05.462436Z",
     "start_time": "2020-03-25T12:42:05.458417Z"
    }
   },
   "outputs": [],
   "source": [
    "from matplotlib.colors import rgb2hex\n",
    "from matplotlib.pyplot import xticks, yticks\n",
    "import pylab as plt"
   ]
  },
  {
   "cell_type": "code",
   "execution_count": 12,
   "metadata": {
    "ExecuteTime": {
     "end_time": "2020-03-25T12:23:20.441983Z",
     "start_time": "2020-03-25T12:22:57.176610Z"
    }
   },
   "outputs": [],
   "source": [
    "from pyspark import SparkContext\n",
    "sc = SparkContext(master=\"local[2]\")"
   ]
  },
  {
   "cell_type": "code",
   "execution_count": 13,
   "metadata": {
    "ExecuteTime": {
     "end_time": "2020-03-25T12:23:23.715429Z",
     "start_time": "2020-03-25T12:23:23.344589Z"
    }
   },
   "outputs": [],
   "source": [
    "from pyspark import SQLContext\n",
    "sqlContext = SQLContext(sc)"
   ]
  },
  {
   "cell_type": "code",
   "execution_count": 21,
   "metadata": {
    "ExecuteTime": {
     "end_time": "2020-03-25T12:31:57.051172Z",
     "start_time": "2020-03-25T12:31:56.805828Z"
    }
   },
   "outputs": [
    {
     "name": "stdout",
     "output_type": "stream",
     "text": [
      "+-----------+-----------+--------------------+----+------------------+-------------------+-------------------+------------------+-------------------+------------------+----------------+------------------+------------------+---------+------------------+-------------------+------------------+-------------------+-------------------+-------------------+---------+-----+\n",
      "|    Station|Measurement|              Values|Year|           coeff_1|            coeff_2|            coeff_3|           coeff_4|            coeff_5|        dist_coast|       elevation|          latitude|         longitude|     name|             res_1|              res_2|             res_3|              res_4|              res_5|           res_mean|total_var|State|\n",
      "+-----------+-----------+--------------------+----+------------------+-------------------+-------------------+------------------+-------------------+------------------+----------------+------------------+------------------+---------+------------------+-------------------+------------------+-------------------+-------------------+-------------------+---------+-----+\n",
      "|USW00014735|       SNWD|[C0 54 60 56 00 0...|1939|-659.3190458468584| -169.3223185674074| 114.03551919851718|457.63475616405776| 418.85486776821057|175.44400024414062|95.0999984741211|42.743099212646484|-73.80919647216797|ALBANY AP|0.6936982956503619| 0.6717348260864184| 0.663298809472818| 0.5188018093532125|0.39955117079145136| 0.9805876688449685|1466850.0|   NY|\n",
      "|USW00014735|       SNWD|[40 4E 40 4E 40 4...|1943|-636.3811845052854|  272.3540924503061|-209.93059130386774|277.24524994684697|  5.927093765926917|175.44400024414062|95.0999984741211|42.743099212646484|-73.80919647216797|ALBANY AP|0.6164763435258529| 0.5478257025034862|0.5066355807977382| 0.4339928689629195|0.43395199595466527| 0.7359716199890467|1441498.0|   NY|\n",
      "|USW00014735|       SNWD|[00 00 00 00 00 0...|1945|-33.31222533832221|  790.5793887906391|  347.2104137516154| 379.6550684921963|  329.8271722153101|175.44400024414062|95.0999984741211|42.743099212646484|-73.80919647216797|ALBANY AP|0.9993030174452017|  0.606768192055135|0.5333738807913538| 0.4449806880212799|0.37717054459006166|  0.408684109819488|4001471.0|   NY|\n",
      "|USW00014735|       SNWD|[C0 54 90 59 90 5...|1947|-671.9063469563363|-216.30283228614437| 123.23898642352526|-594.8262576423655|-274.96010882571284|175.44400024414062|95.0999984741211|42.743099212646484|-73.80919647216797|ALBANY AP|0.7546861364796308| 0.7292630059313147|0.7210102146189936| 0.5287520195453498|0.48767073777806347| 0.8255360386438173|2229253.0|   NY|\n",
      "|USW00014735|       SNWD|[58 5E F0 5F F0 5...|1948|1040.8443508115042|  1028.612178846539|-317.42105487375363| 594.5808073968833|-25.039176989943073|175.44400024414062|95.0999984741211|42.743099212646484|-73.80919647216797|ALBANY AP|0.7118444029704715|0.43042191062623786|0.4036223951700997|0.30959005303151604|0.30942329161298493|0.40490066097763644|9285302.0|   NY|\n",
      "+-----------+-----------+--------------------+----+------------------+-------------------+-------------------+------------------+-------------------+------------------+----------------+------------------+------------------+---------+------------------+-------------------+------------------+-------------------+-------------------+-------------------+---------+-----+\n",
      "only showing top 5 rows\n",
      "\n"
     ]
    }
   ],
   "source": [
    "df = sqlContext.read.parquet(\"../Data/decon_NY_SNWD.parquet/\")\n",
    "df.show(5)"
   ]
  },
  {
   "cell_type": "code",
   "execution_count": 16,
   "metadata": {
    "ExecuteTime": {
     "end_time": "2020-03-25T12:29:30.925005Z",
     "start_time": "2020-03-25T12:29:30.702483Z"
    }
   },
   "outputs": [],
   "source": [
    "# count and avg of coeff_1\n",
    "\n",
    "feat = \"coeff_1\"\n",
    "sqlContext.registerDataFrameAsTable(df, \"weather\")"
   ]
  },
  {
   "cell_type": "code",
   "execution_count": 20,
   "metadata": {
    "ExecuteTime": {
     "end_time": "2020-03-25T12:31:51.383919Z",
     "start_time": "2020-03-25T12:31:51.243266Z"
    }
   },
   "outputs": [
    {
     "name": "stdout",
     "output_type": "stream",
     "text": [
      "+-----------+------------------+------------------+----------------+------------------+------------------+\n",
      "|    station|          latitude|         longitude|       elevation|        Dist_coast|           coeff_1|\n",
      "+-----------+------------------+------------------+----------------+------------------+------------------+\n",
      "|USW00014735|42.743099212646484|-73.80919647216797|95.0999984741211|175.44400024414062|-659.3190458468584|\n",
      "|USW00014735|42.743099212646484|-73.80919647216797|95.0999984741211|175.44400024414062|-636.3811845052854|\n",
      "|USW00014735|42.743099212646484|-73.80919647216797|95.0999984741211|175.44400024414062|-33.31222533832221|\n",
      "|USW00014735|42.743099212646484|-73.80919647216797|95.0999984741211|175.44400024414062|-671.9063469563363|\n",
      "|USW00014735|42.743099212646484|-73.80919647216797|95.0999984741211|175.44400024414062|1040.8443508115042|\n",
      "+-----------+------------------+------------------+----------------+------------------+------------------+\n",
      "only showing top 5 rows\n",
      "\n"
     ]
    }
   ],
   "source": [
    "query = \"\"\"\n",
    "SELECT station, latitude, longitude, elevation, Dist_coast, %s\n",
    "FROM weather\n",
    "\"\"\"%feat\n",
    "\n",
    "df1 = sqlContext.sql(query)\n",
    "df1.show(5)"
   ]
  },
  {
   "cell_type": "code",
   "execution_count": 23,
   "metadata": {
    "ExecuteTime": {
     "end_time": "2020-03-25T12:34:32.059447Z",
     "start_time": "2020-03-25T12:34:30.780745Z"
    }
   },
   "outputs": [
    {
     "name": "stdout",
     "output_type": "stream",
     "text": [
      "+-----------+------------------+------------------+------------------+------------------+--------------+-------------------+\n",
      "|    station|          latitude|         longitude|         elevation|        Dist_coast|count(station)|       avg(coeff_1)|\n",
      "+-----------+------------------+------------------+------------------+------------------+--------------+-------------------+\n",
      "|USC00306301|41.150001525878906|   -73.86669921875| 9.100000381469727|23.492300033569336|             5|-34.633676728443675|\n",
      "|USC00303184| 42.87670135498047|-77.03079986572266| 218.8000030517578|341.45599365234375|            21|  52.92724130100481|\n",
      "|USC00304808| 42.24720001220703|          -78.8125|495.29998779296875| 375.9670104980469|            65|  533.3122301843116|\n",
      "|USC00300540|    42.11669921875|   -75.11669921875|             473.0| 174.8520050048828|             8|  207.7429066113467|\n",
      "|USC00307705| 42.67720031738281|-75.50669860839844|333.79998779296875| 242.9669952392578|            67| 126.22023156398511|\n",
      "+-----------+------------------+------------------+------------------+------------------+--------------+-------------------+\n",
      "only showing top 5 rows\n",
      "\n"
     ]
    }
   ],
   "source": [
    "df2 = df1.groupBy([\"station\", \"latitude\", \"longitude\", \"elevation\", \"Dist_coast\"]).agg({\"station\" : \"count\", feat: \"mean\"})\n",
    "df2.show(5)"
   ]
  },
  {
   "cell_type": "code",
   "execution_count": 24,
   "metadata": {
    "ExecuteTime": {
     "end_time": "2020-03-25T12:35:34.035964Z",
     "start_time": "2020-03-25T12:35:31.858133Z"
    }
   },
   "outputs": [
    {
     "data": {
      "text/html": [
       "<div>\n",
       "<style scoped>\n",
       "    .dataframe tbody tr th:only-of-type {\n",
       "        vertical-align: middle;\n",
       "    }\n",
       "\n",
       "    .dataframe tbody tr th {\n",
       "        vertical-align: top;\n",
       "    }\n",
       "\n",
       "    .dataframe thead th {\n",
       "        text-align: right;\n",
       "    }\n",
       "</style>\n",
       "<table border=\"1\" class=\"dataframe\">\n",
       "  <thead>\n",
       "    <tr style=\"text-align: right;\">\n",
       "      <th></th>\n",
       "      <th>station</th>\n",
       "      <th>latitude</th>\n",
       "      <th>longitude</th>\n",
       "      <th>elevation</th>\n",
       "      <th>Dist_coast</th>\n",
       "      <th>count(station)</th>\n",
       "      <th>avg(coeff_1)</th>\n",
       "    </tr>\n",
       "  </thead>\n",
       "  <tbody>\n",
       "    <tr>\n",
       "      <th>294</th>\n",
       "      <td>USC00300015</td>\n",
       "      <td>43.900002</td>\n",
       "      <td>-76.066704</td>\n",
       "      <td>121.900002</td>\n",
       "      <td>376.802002</td>\n",
       "      <td>25</td>\n",
       "      <td>1550.908341</td>\n",
       "    </tr>\n",
       "    <tr>\n",
       "      <th>182</th>\n",
       "      <td>USC00300023</td>\n",
       "      <td>42.101398</td>\n",
       "      <td>-77.234398</td>\n",
       "      <td>304.500000</td>\n",
       "      <td>296.167999</td>\n",
       "      <td>46</td>\n",
       "      <td>-90.305486</td>\n",
       "    </tr>\n",
       "    <tr>\n",
       "      <th>275</th>\n",
       "      <td>USC00300047</td>\n",
       "      <td>42.646099</td>\n",
       "      <td>-73.747200</td>\n",
       "      <td>0.000000</td>\n",
       "      <td>166.001007</td>\n",
       "      <td>4</td>\n",
       "      <td>-107.478530</td>\n",
       "    </tr>\n",
       "    <tr>\n",
       "      <th>69</th>\n",
       "      <td>USC00300055</td>\n",
       "      <td>43.272202</td>\n",
       "      <td>-78.166397</td>\n",
       "      <td>134.100006</td>\n",
       "      <td>436.303009</td>\n",
       "      <td>29</td>\n",
       "      <td>43.864554</td>\n",
       "    </tr>\n",
       "    <tr>\n",
       "      <th>239</th>\n",
       "      <td>USC00300063</td>\n",
       "      <td>42.469700</td>\n",
       "      <td>-73.926697</td>\n",
       "      <td>185.000000</td>\n",
       "      <td>152.889999</td>\n",
       "      <td>5</td>\n",
       "      <td>-6.938177</td>\n",
       "    </tr>\n",
       "  </tbody>\n",
       "</table>\n",
       "</div>"
      ],
      "text/plain": [
       "         station   latitude  longitude   elevation  Dist_coast  \\\n",
       "294  USC00300015  43.900002 -76.066704  121.900002  376.802002   \n",
       "182  USC00300023  42.101398 -77.234398  304.500000  296.167999   \n",
       "275  USC00300047  42.646099 -73.747200    0.000000  166.001007   \n",
       "69   USC00300055  43.272202 -78.166397  134.100006  436.303009   \n",
       "239  USC00300063  42.469700 -73.926697  185.000000  152.889999   \n",
       "\n",
       "     count(station)  avg(coeff_1)  \n",
       "294              25   1550.908341  \n",
       "182              46    -90.305486  \n",
       "275               4   -107.478530  \n",
       "69               29     43.864554  \n",
       "239               5     -6.938177  "
      ]
     },
     "execution_count": 24,
     "metadata": {},
     "output_type": "execute_result"
    }
   ],
   "source": [
    "pdf = df2.toPandas()\n",
    "pdf.sort_values(by=[\"station\"], inplace=True)\n",
    "pdf.head(5)"
   ]
  },
  {
   "cell_type": "code",
   "execution_count": 25,
   "metadata": {
    "ExecuteTime": {
     "end_time": "2020-03-25T12:37:11.766873Z",
     "start_time": "2020-03-25T12:37:11.762853Z"
    }
   },
   "outputs": [],
   "source": [
    "max_lat = pdf[\"latitude\"].max()\n",
    "max_long = pdf[\"longitude\"].max()\n",
    "min_lat = pdf[\"latitude\"].min()\n",
    "min_long = pdf[\"longitude\"].min()"
   ]
  },
  {
   "cell_type": "code",
   "execution_count": 26,
   "metadata": {
    "ExecuteTime": {
     "end_time": "2020-03-25T12:39:15.268688Z",
     "start_time": "2020-03-25T12:39:15.262704Z"
    }
   },
   "outputs": [
    {
     "data": {
      "text/plain": [
       "('avg(coeff_1)', 5030.689567004181, -792.3395482545591)"
      ]
     },
     "execution_count": 26,
     "metadata": {},
     "output_type": "execute_result"
    }
   ],
   "source": [
    "_avg = \"avg(%s)\"%feat\n",
    "_max = pdf[_avg].max()\n",
    "_min = pdf[_avg].min()\n",
    "\n",
    "(_avg, _max, _min)"
   ]
  },
  {
   "cell_type": "code",
   "execution_count": 27,
   "metadata": {
    "ExecuteTime": {
     "end_time": "2020-03-25T12:41:02.246467Z",
     "start_time": "2020-03-25T12:40:57.385951Z"
    }
   },
   "outputs": [],
   "source": [
    "cmap = plt.get_cmap(\"jet\")\n",
    "def get_color(val):\n",
    "    x = (val - _min) / (_max - _min)\n",
    "    return rgb2hex(cmap(x)[:3])"
   ]
  },
  {
   "cell_type": "code",
   "execution_count": 38,
   "metadata": {
    "ExecuteTime": {
     "end_time": "2020-03-25T12:47:56.302958Z",
     "start_time": "2020-03-25T12:47:56.250071Z"
    }
   },
   "outputs": [
    {
     "data": {
      "text/plain": [
       "([], <a list of 0 Text yticklabel objects>)"
      ]
     },
     "execution_count": 38,
     "metadata": {},
     "output_type": "execute_result"
    },
    {
     "data": {
      "image/png": "[encoded data removed]",
      "text/plain": [
       "<Figure size 720x72 with 1 Axes>"
      ]
     },
     "metadata": {
      "needs_background": "light"
     },
     "output_type": "display_data"
    }
   ],
   "source": [
    "plt.figure(figsize=[10, 1])\n",
    "ax = plt.subplot(111)\n",
    "\n",
    "vals = cmap(np.arange(0, 1, 0.005))[:, :3]\n",
    "vals3 = np.stack([vals] * 10)\n",
    "ax.imshow(vals3)\n",
    "\n",
    "mid_pnt = 200. * (-(_min) / (_max - _min))\n",
    "xticks((0, mid_pnt, 200), [\"%4.1f\"%v for v in (_min, 0., _max)])\n",
    "yticks(())"
   ]
  },
  {
   "cell_type": "code",
   "execution_count": 39,
   "metadata": {
    "ExecuteTime": {
     "end_time": "2020-03-25T12:48:59.537568Z",
     "start_time": "2020-03-25T12:48:59.533578Z"
    }
   },
   "outputs": [],
   "source": [
    "center = [(min_lat + max_lat) / 2, (min_long + max_long) / 2]\n",
    "zoom = 6"
   ]
  },
  {
   "cell_type": "code",
   "execution_count": 43,
   "metadata": {
    "ExecuteTime": {
     "end_time": "2020-03-25T13:00:25.390474Z",
     "start_time": "2020-03-25T13:00:23.783989Z"
    }
   },
   "outputs": [
    {
     "data": {
      "application/vnd.jupyter.widget-view+json": {
       "model_id": "fa1495c77ede4d28999e1739e9f7626b",
       "version_major": 2,
       "version_minor": 0
      },
      "text/plain": [
       "Map(center=[42.75955009460449, -75.94625091552734], controls=(ZoomControl(options=['position', 'zoom_in_text',…"
      ]
     },
     "metadata": {},
     "output_type": "display_data"
    }
   ],
   "source": [
    "m = leaf.Map(default_tiles=leaf.TileLayer(opacity=1.0), center=center, zoom=zoom)\n",
    "r = leaf.Rectangle(bounds=[[min_lat, min_long], [max_lat, max_long]], weight=5, fill_opacity=0.0)\n",
    "m += r\n",
    "\n",
    "lat_margin = (max_lat - min_lat) / 4\n",
    "long_margin = (max_long - min_long) / 4\n",
    "\n",
    "circles = []\n",
    "for index, row in pdf.iterrows():\n",
    "    _lat = row[\"latitude\"]\n",
    "    _long = row[\"longitude\"]\n",
    "    _count = row[\"count(station)\"]\n",
    "    _coeff = row[_avg]\n",
    "    cir = leaf.Circle(\n",
    "        location=(_lat, _long),\n",
    "        radius=int(1200 * np.sqrt(_count + 0.0)),\n",
    "        weight=1,\n",
    "        color=\"#F00\",\n",
    "        opacity=0.8,\n",
    "        fill_opacity=0.4,\n",
    "        fill_color=get_color(_coeff)\n",
    "    )\n",
    "    circles.append(cir)\n",
    "    m.add_layer(cir)\n",
    "\n",
    "display(m)"
   ]
  },
  {
   "cell_type": "code",
   "execution_count": null,
   "metadata": {},
   "outputs": [],
   "source": []
  }
 ],
 "metadata": {
  "kernelspec": {
   "display_name": "Python 3",
   "language": "python",
   "name": "python3"
  },
  "language_info": {
   "codemirror_mode": {
    "name": "ipython",
    "version": 3
   },
   "file_extension": ".py",
   "mimetype": "text/x-python",
   "name": "python",
   "nbconvert_exporter": "python",
   "pygments_lexer": "ipython3",
   "version": "3.7.6"
  },
  "toc": {
   "base_numbering": 1,
   "nav_menu": {},
   "number_sections": false,
   "sideBar": true,
   "skip_h1_title": false,
   "title_cell": "Table of Contents",
   "title_sidebar": "Contents",
   "toc_cell": false,
   "toc_position": {},
   "toc_section_display": true,
   "toc_window_display": false
  },
  "varInspector": {
   "cols": {
    "lenName": 16,
    "lenType": 16,
    "lenVar": 40
   },
   "kernels_config": {
    "python": {
     "delete_cmd_postfix": "",
     "delete_cmd_prefix": "del ",
     "library": "var_list.py",
     "varRefreshCmd": "print(var_dic_list())"
    },
    "r": {
     "delete_cmd_postfix": ") ",
     "delete_cmd_prefix": "rm(",
     "library": "var_list.r",
     "varRefreshCmd": "cat(var_dic_list()) "
    }
   },
   "types_to_exclude": [
    "module",
    "function",
    "builtin_function_or_method",
    "instance",
    "_Feature"
   ],
   "window_display": false
  }
 },
 "nbformat": 4,
 "nbformat_minor": 4
}
